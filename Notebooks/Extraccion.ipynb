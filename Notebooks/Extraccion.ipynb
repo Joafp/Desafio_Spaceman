{
 "cells": [
  {
   "cell_type": "code",
   "execution_count": 3,
   "metadata": {},
   "outputs": [],
   "source": [
    "import os\n",
    "import time\n",
    "from selenium import webdriver\n",
    "from selenium.webdriver.common.by import By\n",
    "from selenium.webdriver.support.ui import WebDriverWait\n",
    "from selenium.webdriver.support import expected_conditions as EC\n"
   ]
  },
  {
   "cell_type": "code",
   "execution_count": 4,
   "metadata": {},
   "outputs": [
    {
     "name": "stdout",
     "output_type": "stream",
     "text": [
      "Se encontraron 2 archivos para descargar.\n",
      "No se encontró la alerta de archivo grande o ya fue procesada.\n",
      "¡Ventana de alerta detectada y aceptada!\n"
     ]
    }
   ],
   "source": [
    "\n",
    "# Obtener la ruta de la carpeta actual y subir una carpeta\n",
    "parent_directory = os.path.abspath(os.path.join(os.getcwd(), \"..\"))\n",
    "\n",
    "# Ruta de descarga personalizada\n",
    "download_path = os.path.join(parent_directory, \"Data\")\n",
    "\n",
    "# Configuración de Chrome para descargas automáticas\n",
    "chrome_options = webdriver.ChromeOptions()\n",
    "prefs = {\n",
    "    \"download.default_directory\": download_path,  # Carpeta de descarga\n",
    "    \"download.prompt_for_download\": False,  # No pedir confirmación\n",
    "    \"download.directory_upgrade\": True,  # Evitar bloqueos de seguridad\n",
    "    \"safebrowsing.enabled\": True  # Evitar bloqueos de seguridad\n",
    "}\n",
    "chrome_options.add_experimental_option(\"prefs\", prefs)\n",
    "chrome_options.add_argument(\"--headless\")  # No abrir el navegador\n",
    "chrome_options.add_argument(\"--disable-gpu\")  # Evitar errores en algunos sistemas\n",
    "chrome_options.add_argument(\"--window-size=1920x1080\")  # Simular pantalla grande\n",
    "chrome_options.add_argument(\"--log-level=3\")  # Reducir logs en consola\n",
    "\n",
    "# Iniciar el navegador de forma visible (sin modo headless)\n",
    "driver = webdriver.Chrome(options=chrome_options)\n",
    "\n",
    "# URL de la carpeta de Google Drive\n",
    "folder_url = \"https://drive.google.com/drive/folders/17a0kvZD1ZfRPyMCgrNlr4vCCdqN9djCv\"\n",
    "\n",
    "# Abrir la página de Google Drive\n",
    "driver.get(folder_url)\n",
    "time.sleep(5)  # Esperar que cargue la página\n",
    "\n",
    "# Buscar todos los botones de \"Descargar\"\n",
    "try:\n",
    "    download_buttons = driver.find_elements(By.XPATH, \"//span[contains(text(), 'Descargar')]\")\n",
    "\n",
    "    if download_buttons:\n",
    "        print(f\"Se encontraron {len(download_buttons)} archivos para descargar.\")\n",
    "\n",
    "        for button in download_buttons:\n",
    "            # Intentar hacer clic en el botón de descarga\n",
    "            try:\n",
    "                button.click()  # Hacer clic en el botón de descarga\n",
    "\n",
    "                # Manejar la ventana de alerta si aparece\n",
    "                try:\n",
    "                    # Esperar a que el botón \"Descargar de todos modos\" sea clickeable\n",
    "                    download_button_alert = WebDriverWait(driver, 10).until(\n",
    "                        EC.element_to_be_clickable((By.XPATH, \"//button[contains(text(), 'Descargar de todos modos')]\"))\n",
    "                    )\n",
    "                    download_button_alert.click()  # Hacer clic en el botón \"Descargar de todos modos\"\n",
    "                    print(\"¡Ventana de alerta detectada y aceptada!\")\n",
    "                except Exception as e:\n",
    "                    # Si no se encuentra el botón de la alerta, continuar\n",
    "                    print(\"No se encontró la alerta de archivo grande o ya fue procesada.\")\n",
    "                    pass\n",
    "                time.sleep(5)\n",
    "                # Verificar si el archivo ya se descargó\n",
    "                downloaded_files = os.listdir(download_path)\n",
    "                while  any(file.endswith(\".crdownload\") or file.endswith(\".tmp\") for file in downloaded_files):\n",
    "                    time.sleep(2)\n",
    "                    downloaded_files = os.listdir(download_path)\n",
    "\n",
    "            except Exception as e:\n",
    "                print(f\"Error al intentar descargar: {e}\")\n",
    "    else:\n",
    "        print(\"No se encontraron archivos para descargar.\")\n",
    "\n",
    "except Exception as e:\n",
    "    print(\"Error al buscar los botones de descarga:\", e)\n",
    "\n",
    "# Cerrar el navegador\n",
    "driver.quit()\n",
    "\n"
   ]
  }
 ],
 "metadata": {
  "kernelspec": {
   "display_name": "venv_spaceman",
   "language": "python",
   "name": "python3"
  },
  "language_info": {
   "codemirror_mode": {
    "name": "ipython",
    "version": 3
   },
   "file_extension": ".py",
   "mimetype": "text/x-python",
   "name": "python",
   "nbconvert_exporter": "python",
   "pygments_lexer": "ipython3",
   "version": "3.13.1"
  }
 },
 "nbformat": 4,
 "nbformat_minor": 2
}
