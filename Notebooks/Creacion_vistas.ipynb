{
 "cells": [
  {
   "cell_type": "code",
   "execution_count": 1,
   "metadata": {},
   "outputs": [],
   "source": [
    "from sqlalchemy import create_engine,text\n",
    "import os\n",
    "from dotenv import load_dotenv"
   ]
  },
  {
   "cell_type": "code",
   "execution_count": 2,
   "metadata": {},
   "outputs": [],
   "source": [
    "load_dotenv()\n",
    "DB_USER = os.getenv(\"DB_USER\")\n",
    "DB_PASSWORD = os.getenv(\"DB_PASSWORD\")\n",
    "DB_HOST = os.getenv(\"DB_HOST\")\n",
    "DB_PORT = os.getenv(\"DB_PORT\")\n",
    "DB_NAME = \"spaceman\"  # Nombre de la base de datos que deseas crear"
   ]
  },
  {
   "cell_type": "code",
   "execution_count": 3,
   "metadata": {},
   "outputs": [],
   "source": [
    "# Crear la URL de conexión apuntando a la base de datos 'spaceman'\n",
    "DATABASE_SPACEMAN_URL = f\"postgresql://{DB_USER}:{DB_PASSWORD}@{DB_HOST}:{DB_PORT}/{DB_NAME}\"\n",
    "engine = create_engine(DATABASE_SPACEMAN_URL)"
   ]
  },
  {
   "cell_type": "code",
   "execution_count": 4,
   "metadata": {},
   "outputs": [
    {
     "name": "stdout",
     "output_type": "stream",
     "text": [
      "Vistas creadas exitosamente.\n"
     ]
    }
   ],
   "source": [
    "script_path = os.path.join(\"..\", \"Scripts_sql\", \"creacion_vistas.sql\")\n",
    "# Leer el script SQL\n",
    "with open(script_path, \"r\", encoding=\"utf-8\") as file:\n",
    "    sql_script = file.read()\n",
    "\n",
    "# Ejecutar el script\n",
    "try:\n",
    "    with engine.connect() as connection:\n",
    "        connection.execute(text(sql_script))\n",
    "        connection.commit()  # Asegurar que los cambios se apliquen\n",
    "    print(\"Vistas creadas exitosamente.\")\n",
    "except Exception as e:\n",
    "    print(\"Error al ejecutar el script:\", e)\n",
    "finally:\n",
    "    engine.dispose()  # Cierra la conexión"
   ]
  }
 ],
 "metadata": {
  "kernelspec": {
   "display_name": "venv_spaceman",
   "language": "python",
   "name": "python3"
  },
  "language_info": {
   "codemirror_mode": {
    "name": "ipython",
    "version": 3
   },
   "file_extension": ".py",
   "mimetype": "text/x-python",
   "name": "python",
   "nbconvert_exporter": "python",
   "pygments_lexer": "ipython3",
   "version": "3.13.2"
  }
 },
 "nbformat": 4,
 "nbformat_minor": 2
}
