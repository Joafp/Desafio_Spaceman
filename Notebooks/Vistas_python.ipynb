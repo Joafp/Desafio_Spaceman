{
 "cells": [
  {
   "cell_type": "code",
   "execution_count": 25,
   "metadata": {},
   "outputs": [],
   "source": [
    "import pandas as pd\n",
    "import os\n",
    "from sqlalchemy import create_engine\n",
    "from dotenv import load_dotenv\n",
    "from sqlalchemy import text"
   ]
  },
  {
   "cell_type": "code",
   "execution_count": 4,
   "metadata": {},
   "outputs": [],
   "source": [
    "\n",
    "# Cargar las variables de entorno desde .env\n",
    "load_dotenv()\n",
    "\n",
    "DB_USER = os.getenv(\"DB_USER\")  # Puedes agregar esto al .env si prefieres\n",
    "DB_PASSWORD = os.getenv(\"DB_PASSWORD\")\n",
    "DB_HOST = os.getenv(\"DB_HOST\")\n",
    "DB_PORT = os.getenv(\"DB_PORT\")\n",
    "DB_NAME = \"spaceman\"\n",
    "\n",
    "# Crear la URL de conexión a PostgreSQL\n",
    "database_url = f'postgresql://{DB_USER}:{DB_PASSWORD}@{DB_HOST}:{DB_PORT}/{DB_NAME}'\n",
    "\n",
    "# Crear una conexión a la base de datos usando SQLAlchemy\n",
    "engine = create_engine(database_url)"
   ]
  },
  {
   "cell_type": "code",
   "execution_count": 5,
   "metadata": {},
   "outputs": [
    {
     "name": "stdout",
     "output_type": "stream",
     "text": [
      " Extrayendo tabla: categorias ...\n",
      " Extrayendo tabla: productos ...\n",
      " Extrayendo tabla: secciones ...\n",
      " Extrayendo tabla: sectores ...\n",
      " Extrayendo tabla: subcategorias ...\n",
      " Extrayendo tabla: tickets ...\n",
      "Tablas extraídas correctamente.\n"
     ]
    }
   ],
   "source": [
    "# Listado de tablas a extraer\n",
    "tablas = [\"categorias\", \"productos\", \"secciones\", \"sectores\", \"subcategorias\", \"tickets\"]\n",
    "\n",
    "# Diccionario para almacenar los DataFrames\n",
    "dfs = {}\n",
    "\n",
    "try:\n",
    "    with engine.connect() as connection:\n",
    "        for tabla in tablas:\n",
    "            print(f\" Extrayendo tabla: {tabla} ...\")\n",
    "            query = f\"SELECT * FROM maestros.{tabla}\"  # Asegúrate de que el esquema es 'maestros'\n",
    "            dfs[tabla] = pd.read_sql(query, con=connection)\n",
    "\n",
    "    print(\"Tablas extraídas correctamente.\")\n",
    "except Exception as e:\n",
    "    print(f\"Error al extraer las tablas: {e}\")\n",
    "finally:\n",
    "    engine.dispose()  # Cierra la conexión"
   ]
  },
  {
   "cell_type": "code",
   "execution_count": 9,
   "metadata": {},
   "outputs": [],
   "source": [
    "Vista_1=pd.merge(dfs['tickets'],dfs['productos'],how='inner',on=['eancode','idcadena']).merge(dfs['categorias'],how='inner',on=['id_categoria','idcadena'])"
   ]
  },
  {
   "cell_type": "code",
   "execution_count": 10,
   "metadata": {},
   "outputs": [],
   "source": [
    "Vista_1=Vista_1[Vista_1['anulado']==False]"
   ]
  },
  {
   "cell_type": "code",
   "execution_count": 16,
   "metadata": {},
   "outputs": [],
   "source": [
    "Vista_1_final=Vista_1.groupby(['id_categoria','idcadena']).agg(\n",
    "    Categoria=pd.NamedAgg(column='categoria',aggfunc='last'),\n",
    "    Total_unidades_vendidas=pd.NamedAgg(column='unidades_vendidas',aggfunc='sum')\n",
    ").reset_index()"
   ]
  },
  {
   "cell_type": "code",
   "execution_count": 19,
   "metadata": {},
   "outputs": [],
   "source": [
    "dfs['tickets']['Facturacion']=dfs['tickets']['unidades_vendidas']*dfs['tickets']['precio_regular']"
   ]
  },
  {
   "cell_type": "code",
   "execution_count": 27,
   "metadata": {},
   "outputs": [],
   "source": [
    "vista_2_final = dfs['tickets'][dfs['tickets']['anulado'] == False].groupby('fecha').agg(\n",
    "    Facturacion=pd.NamedAgg(column='Facturacion', aggfunc='sum'),\n",
    "    Total_vendidos=pd.NamedAgg(column='unidades_vendidas', aggfunc='sum'),\n",
    "    Total_tickets=pd.NamedAgg(column='ticket', aggfunc='nunique')\n",
    ").reset_index()"
   ]
  },
  {
   "cell_type": "code",
   "execution_count": 33,
   "metadata": {},
   "outputs": [
    {
     "name": "stdout",
     "output_type": "stream",
     "text": [
      "Vistas creadas correctamente en PostgreSQL.\n"
     ]
    }
   ],
   "source": [
    "try:\n",
    "    with engine.connect() as connection:\n",
    "        # Subir los DataFrames como tablas temporales\n",
    "        Vista_1_final.to_sql('tmp_ventas_categoria', con=connection, schema='maestros', if_exists='replace', index=False)\n",
    "        vista_2_final.to_sql('tmp_ventas_dias', con=connection, schema='maestros', if_exists='replace', index=False)\n",
    "\n",
    "        # Crear vistas en PostgreSQL\n",
    "        sql_views = \"\"\"\n",
    "        CREATE OR REPLACE VIEW maestros.ventas_por_categoria_python AS\n",
    "        SELECT * FROM maestros.tmp_ventas_categoria;\n",
    "\n",
    "        CREATE OR REPLACE VIEW maestros.ventas_dias_python AS\n",
    "        SELECT * FROM maestros.tmp_ventas_dias;\n",
    "        \"\"\"\n",
    "        connection.execute(text(sql_views))\n",
    "        connection.commit()\n",
    "\n",
    "    print(\"Vistas creadas correctamente en PostgreSQL.\")\n",
    "except Exception as e:\n",
    "    print(f\"Error al crear las vistas: {e}\")\n",
    "finally:\n",
    "    engine.dispose()"
   ]
  }
 ],
 "metadata": {
  "kernelspec": {
   "display_name": "venv_spaceman",
   "language": "python",
   "name": "python3"
  },
  "language_info": {
   "codemirror_mode": {
    "name": "ipython",
    "version": 3
   },
   "file_extension": ".py",
   "mimetype": "text/x-python",
   "name": "python",
   "nbconvert_exporter": "python",
   "pygments_lexer": "ipython3",
   "version": "3.13.2"
  }
 },
 "nbformat": 4,
 "nbformat_minor": 2
}
