{
 "cells": [
  {
   "cell_type": "code",
   "execution_count": 1,
   "metadata": {},
   "outputs": [],
   "source": [
    "import pandas as pd\n",
    "from sqlalchemy import create_engine, text\n",
    "import os"
   ]
  },
  {
   "cell_type": "code",
   "execution_count": 2,
   "metadata": {},
   "outputs": [],
   "source": [
    "# Parámetros de conexión\n",
    "DB_USER = os.getenv(\"DB_USER\")\n",
    "DB_PASSWORD = os.getenv(\"DB_PASSWORD\")\n",
    "DB_HOST = os.getenv(\"DB_HOST\")\n",
    "DB_PORT = os.getenv(\"DB_PORT\")\n",
    "DB_NAME = \"spaceman\"\n",
    "\n",
    "# Crear la conexión a la base de datos\n",
    "DATABASE_SPACEMAN_URL = f\"postgresql://{DB_USER}:{DB_PASSWORD}@{DB_HOST}:{DB_PORT}/{DB_NAME}\"\n",
    "engine = create_engine(DATABASE_SPACEMAN_URL)"
   ]
  },
  {
   "cell_type": "code",
   "execution_count": 10,
   "metadata": {},
   "outputs": [
    {
     "name": "stdout",
     "output_type": "stream",
     "text": [
      "Consulta df_pregunta_1 ejecutada exitosamente.\n",
      "Consulta df_pregunta_2 ejecutada exitosamente.\n",
      "Consulta df_pregunta_3 ejecutada exitosamente.\n",
      "Consulta df_pregunta_4 ejecutada exitosamente.\n"
     ]
    }
   ],
   "source": [
    "script_path = os.path.join(\"..\", \"Scripts_sql\", \"Consultas.sql\")\n",
    "# Leer el archivo SQL con las consultas\n",
    "with open(script_path, \"r\", encoding=\"utf-8\") as file:\n",
    "    sql_script = file.read()\n",
    "\n",
    "# Separar las consultas por el delimitador `;` (asegura que no haya líneas en blanco)\n",
    "queries = [q.strip() for q in sql_script.split(\";\") if q.strip()]\n",
    "\n",
    "# Definir los nombres de los DataFrames\n",
    "query_names = [\"df_pregunta_1\", \"df_pregunta_2\", \"df_pregunta_3\", \"df_pregunta_4\"]\n",
    "\n",
    "# Diccionario para almacenar los resultados\n",
    "df_results = {}\n",
    "\n",
    "# Ejecutar cada consulta y guardar en DataFrames\n",
    "with engine.connect() as connection:\n",
    "    for i, query in enumerate(queries):\n",
    "        try:\n",
    "            df_results[query_names[i]] = pd.read_sql(text(query), connection)\n",
    "            print(f\"Consulta {query_names[i]} ejecutada exitosamente.\")\n",
    "        except Exception as e:\n",
    "            print(f\"Error al ejecutar {query_names[i]}: {e}\")\n",
    "\n",
    "# Desconectar el engine\n",
    "engine.dispose()"
   ]
  }
 ],
 "metadata": {
  "kernelspec": {
   "display_name": "venv_spaceman",
   "language": "python",
   "name": "python3"
  },
  "language_info": {
   "codemirror_mode": {
    "name": "ipython",
    "version": 3
   },
   "file_extension": ".py",
   "mimetype": "text/x-python",
   "name": "python",
   "nbconvert_exporter": "python",
   "pygments_lexer": "ipython3",
   "version": "3.13.1"
  }
 },
 "nbformat": 4,
 "nbformat_minor": 2
}
