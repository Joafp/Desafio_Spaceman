{
 "cells": [
  {
   "cell_type": "code",
   "execution_count": 2,
   "metadata": {},
   "outputs": [],
   "source": [
    "from sqlalchemy import create_engine,text\n",
    "import os\n",
    "from dotenv import load_dotenv"
   ]
  },
  {
   "cell_type": "markdown",
   "metadata": {},
   "source": [
    "### Paraemtros para la conexion"
   ]
  },
  {
   "cell_type": "code",
   "execution_count": 3,
   "metadata": {},
   "outputs": [],
   "source": [
    "load_dotenv()\n",
    "DB_USER = os.getenv(\"DB_USER\")\n",
    "DB_PASSWORD = os.getenv(\"DB_PASSWORD\")\n",
    "DB_HOST = os.getenv(\"DB_HOST\")\n",
    "DB_PORT = os.getenv(\"DB_PORT\")\n",
    "DB_NAME = \"spaceman\"  # Nombre de la base de datos que deseas crear\n",
    "\n",
    "# Crear la URL de conexión sin especificar la base de datos\n",
    "DATABASE_POSTGRES_URL = f\"postgresql://{DB_USER}:{DB_PASSWORD}@{DB_HOST}:{DB_PORT}/postgres\"\n"
   ]
  },
  {
   "cell_type": "markdown",
   "metadata": {},
   "source": [
    "### Crear la base de datos"
   ]
  },
  {
   "cell_type": "code",
   "execution_count": 4,
   "metadata": {},
   "outputs": [
    {
     "name": "stdout",
     "output_type": "stream",
     "text": [
      "Error al crear la base de datos 'spaceman': (psycopg2.errors.DuplicateDatabase) la base de datos «spaceman» ya existe\n",
      "\n",
      "[SQL: CREATE DATABASE spaceman]\n",
      "(Background on this error at: https://sqlalche.me/e/20/f405)\n"
     ]
    }
   ],
   "source": [
    "# Crear el engine para conectarse a PostgreSQL sin especificar una base de datos\n",
    "engine = create_engine(DATABASE_POSTGRES_URL)\n",
    "\n",
    "try:\n",
    "    with engine.connect() as connection:\n",
    "        connection.execute(text(\"COMMIT\"))  # Necesario antes de crear la base de datos\n",
    "        connection.execute(text(f\"CREATE DATABASE {DB_NAME}\"))\n",
    "        print(f\"Base de datos '{DB_NAME}' creada exitosamente.\")\n",
    "except Exception as e:\n",
    "    print(f\"Error al crear la base de datos '{DB_NAME}':\", e)\n",
    "finally:\n",
    "    engine.dispose()  # Cierra la conexión"
   ]
  },
  {
   "cell_type": "markdown",
   "metadata": {},
   "source": [
    "### Conectarme a la base de datos spaceman"
   ]
  },
  {
   "cell_type": "code",
   "execution_count": 5,
   "metadata": {},
   "outputs": [
    {
     "name": "stdout",
     "output_type": "stream",
     "text": [
      "Esquema 'maestros' creado exitosamente.\n"
     ]
    }
   ],
   "source": [
    "# Crear la URL de conexión apuntando a la base de datos 'spaceman'\n",
    "DATABASE_SPACEMAN_URL = f\"postgresql://{DB_USER}:{DB_PASSWORD}@{DB_HOST}:{DB_PORT}/{DB_NAME}\"\n",
    "\n",
    "# Crear el engine con la base de datos correcta\n",
    "engine = create_engine(DATABASE_SPACEMAN_URL)\n",
    "\n",
    "try:\n",
    "    with engine.connect() as connection:\n",
    "        connection.execute(text(\"COMMIT\"))  # Asegura que no haya transacciones pendientes\n",
    "        connection.execute(text(\"CREATE SCHEMA IF NOT EXISTS maestros;\"))\n",
    "        print(\"Esquema 'maestros' creado exitosamente.\")\n",
    "except Exception as e:\n",
    "    print(\"Error al crear el esquema 'maestros':\", e)\n",
    "finally:\n",
    "    engine.dispose()  # Cierra la conexión"
   ]
  },
  {
   "cell_type": "markdown",
   "metadata": {},
   "source": [
    "### Crear tablas"
   ]
  },
  {
   "cell_type": "code",
   "execution_count": 6,
   "metadata": {},
   "outputs": [
    {
     "name": "stdout",
     "output_type": "stream",
     "text": [
      "Error al ejecutar el script SQL: (psycopg2.errors.DuplicateTable) la relación «sectores» ya existe\n",
      "\n",
      "[SQL: -- Creacion de tablas\n",
      "\n",
      "CREATE TABLE maestros.sectores (\n",
      "    id_sector INT NOT NULL,\n",
      "    idcadena INT NOT NULL,\n",
      "    sector VARCHAR(255) NOT NULL,\n",
      "    PRIMARY KEY (id_sector, idcadena) -- Clave primaria compuesta\n",
      ");\n",
      "\n",
      "CREATE TABLE maestros.secciones (\n",
      "    id_seccion INT NOT NULL,\n",
      "    idcadena INT NOT NULL,\n",
      "    seccion VARCHAR(255) NOT NULL,\n",
      "    PRIMARY KEY (id_seccion, idcadena) -- Clave primaria compuesta\n",
      ");\n",
      "\n",
      "CREATE TABLE maestros.subcategorias (\n",
      "    id_subcategoria INT NOT NULL,\n",
      "    idcadena INT NOT NULL,\n",
      "    subcategoria VARCHAR(255) NOT NULL,\n",
      "    PRIMARY KEY (id_subcategoria, idcadena) -- Clave primaria compuesta\n",
      ");\n",
      "CREATE TABLE maestros.categorias (\n",
      "    id_categoria INT NOT NULL,\n",
      "    idcadena INT NOT NULL,\n",
      "    categoria VARCHAR(255) NOT NULL,\n",
      "    PRIMARY KEY (id_categoria, idcadena) -- Clave primaria compuesta\n",
      ");\n",
      "CREATE TABLE maestros.productos (\n",
      "    id BIGSERIAL PRIMARY KEY,  -- Usamos BIGSERIAL para manejar valores más grandes\n",
      "    idcadena BIGINT NOT NULL,   -- Cambiamos idcadena a BIGINT\n",
      "    eancode BIGINT NOT NULL,    -- Cambiamos eancode a BIGINT\n",
      "    descripcion VARCHAR(255),\n",
      "    id_sector BIGINT NOT NULL,  -- Cambiamos id_sector a BIGINT\n",
      "    id_seccion BIGINT NOT NULL, -- Cambiamos id_seccion a BIGINT\n",
      "    id_categoria BIGINT NOT NULL, -- Cambiamos id_categoria a BIGINT\n",
      "    id_subcategoria BIGINT NOT NULL, -- Cambiamos id_subcategoria a BIGINT\n",
      "    fabricante VARCHAR(255),\n",
      "    marca VARCHAR(255),\n",
      "    contenido FLOAT,\n",
      "    pesovolumen FLOAT,\n",
      "    unidadmedida VARCHAR(50),\n",
      "    ultmodificacion VARCHAR(50),\n",
      "    granfamilia VARCHAR(255),\n",
      "    familia VARCHAR(255),\n",
      "    -- Relaciones con claves foráneas compuestas\n",
      "    CONSTRAINT fk_producto_sector FOREIGN KEY (id_sector, idcadena) \n",
      "        REFERENCES maestros.sectores (id_sector, idcadena),\n",
      "    CONSTRAINT fk_producto_seccion FOREIGN KEY (id_seccion, idcadena) \n",
      "        REFERENCES maestros.secciones (id_seccion, idcadena),\n",
      "    CONSTRAINT fk_producto_categoria FOREIGN KEY (id_categoria, idcadena) \n",
      "        REFERENCES maestros.categorias (id_categoria, idcadena),\n",
      "    CONSTRAINT fk_producto_subcategoria FOREIGN KEY (id_subcategoria, idcadena) \n",
      "        REFERENCES maestros.subcategorias (id_subcategoria, idcadena)\n",
      ");\n",
      "\n",
      "\n",
      "\n",
      "CREATE TABLE maestros.tickets (\n",
      "    id SERIAL PRIMARY KEY,\n",
      "    punto INT NOT NULL,\n",
      "    ticket VARCHAR(50) NOT NULL,\n",
      "    fecha DATE NOT NULL,\n",
      "    hora TIME ,\n",
      "    eancode BIGINT NOT NULL,\n",
      "    ean_desc VARCHAR(255) NOT NULL,\n",
      "    unidades_vendidas FLOAT NOT NULL,\n",
      "    precio_regular DECIMAL(10,2),\n",
      "    precio_promocional DECIMAL(10,2),\n",
      "    tipo_venta VARCHAR(50),\n",
      "    idcadena INT NOT NULL,\n",
      "    ultmodificacion VARCHAR(50),\n",
      "    anulado BOOLEAN DEFAULT FALSE\n",
      ");\n",
      "\n",
      "]\n",
      "(Background on this error at: https://sqlalche.me/e/20/f405)\n"
     ]
    }
   ],
   "source": [
    "# Ruta del script SQL en la carpeta Scripts_sql (un nivel atrás)\n",
    "script_path = os.path.join(\"..\", \"Scripts_sql\", \"creacion_tablas.sql\")\n",
    "# Leer el archivo SQL\n",
    "try:\n",
    "    with open(script_path, \"r\", encoding=\"utf-8\") as file:\n",
    "        sql_script = file.read()\n",
    "except Exception as e:\n",
    "    print(\"Error al leer el archivo SQL:\", e)\n",
    "    exit()\n",
    "\n",
    "# Crear las tablas en la base de datos 'spaceman'\n",
    "engine = create_engine(DATABASE_SPACEMAN_URL)\n",
    "\n",
    "try:\n",
    "    with engine.connect() as connection:\n",
    "        connection.execute(text(sql_script))\n",
    "        connection.commit()  # Importante para aplicar los cambios\n",
    "        print(\"Tablas creadas exitosamente.\")\n",
    "except Exception as e:\n",
    "    print(\"Error al ejecutar el script SQL:\", e)\n",
    "finally:\n",
    "    engine.dispose()  # Cierra la conexión"
   ]
  }
 ],
 "metadata": {
  "kernelspec": {
   "display_name": "venv_spaceman",
   "language": "python",
   "name": "python3"
  },
  "language_info": {
   "codemirror_mode": {
    "name": "ipython",
    "version": 3
   },
   "file_extension": ".py",
   "mimetype": "text/x-python",
   "name": "python",
   "nbconvert_exporter": "python",
   "pygments_lexer": "ipython3",
   "version": "3.13.2"
  }
 },
 "nbformat": 4,
 "nbformat_minor": 2
}
