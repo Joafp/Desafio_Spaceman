{
 "cells": [
  {
   "cell_type": "code",
   "execution_count": 1,
   "metadata": {},
   "outputs": [],
   "source": [
    "from sqlalchemy import create_engine,text\n",
    "import os\n",
    "from dotenv import load_dotenv"
   ]
  },
  {
   "cell_type": "markdown",
   "metadata": {},
   "source": [
    "### Paraemtros para la conexion"
   ]
  },
  {
   "cell_type": "code",
   "execution_count": 2,
   "metadata": {},
   "outputs": [],
   "source": [
    "load_dotenv()\n",
    "DB_USER = os.getenv(\"DB_USER\")\n",
    "DB_PASSWORD = os.getenv(\"DB_PASSWORD\")\n",
    "DB_HOST = os.getenv(\"DB_HOST\")\n",
    "DB_PORT = os.getenv(\"DB_PORT\")\n",
    "DB_NAME = \"spaceman\"  # Nombre de la base de datos que deseas crear\n",
    "\n",
    "# Crear la URL de conexión sin especificar la base de datos\n",
    "DATABASE_POSTGRES_URL = f\"postgresql://{DB_USER}:{DB_PASSWORD}@{DB_HOST}:{DB_PORT}/postgres\"\n"
   ]
  },
  {
   "cell_type": "markdown",
   "metadata": {},
   "source": [
    "### Crear la base de datos"
   ]
  },
  {
   "cell_type": "code",
   "execution_count": 3,
   "metadata": {},
   "outputs": [
    {
     "name": "stdout",
     "output_type": "stream",
     "text": [
      "Base de datos 'spaceman' creada exitosamente.\n"
     ]
    }
   ],
   "source": [
    "# Crear el engine para conectarse a PostgreSQL sin especificar una base de datos\n",
    "engine = create_engine(DATABASE_POSTGRES_URL)\n",
    "\n",
    "try:\n",
    "    with engine.connect() as connection:\n",
    "        connection.execute(text(\"COMMIT\"))  # Necesario antes de crear la base de datos\n",
    "        connection.execute(text(f\"CREATE DATABASE {DB_NAME}\"))\n",
    "        print(f\"Base de datos '{DB_NAME}' creada exitosamente.\")\n",
    "except Exception as e:\n",
    "    print(f\"Error al crear la base de datos '{DB_NAME}':\", e)\n",
    "finally:\n",
    "    engine.dispose()  # Cierra la conexión"
   ]
  },
  {
   "cell_type": "markdown",
   "metadata": {},
   "source": [
    "### Conectarme a la base de datos spaceman"
   ]
  },
  {
   "cell_type": "code",
   "execution_count": 4,
   "metadata": {},
   "outputs": [
    {
     "name": "stdout",
     "output_type": "stream",
     "text": [
      "Esquema 'maestros' creado exitosamente.\n"
     ]
    }
   ],
   "source": [
    "# Crear la URL de conexión apuntando a la base de datos 'spaceman'\n",
    "DATABASE_SPACEMAN_URL = f\"postgresql://{DB_USER}:{DB_PASSWORD}@{DB_HOST}:{DB_PORT}/{DB_NAME}\"\n",
    "\n",
    "# Crear el engine con la base de datos correcta\n",
    "engine = create_engine(DATABASE_SPACEMAN_URL)\n",
    "\n",
    "try:\n",
    "    with engine.connect() as connection:\n",
    "        connection.execute(text(\"COMMIT\"))  # Asegura que no haya transacciones pendientes\n",
    "        connection.execute(text(\"CREATE SCHEMA IF NOT EXISTS maestros;\"))\n",
    "        print(\"Esquema 'maestros' creado exitosamente.\")\n",
    "except Exception as e:\n",
    "    print(\"Error al crear el esquema 'maestros':\", e)\n",
    "finally:\n",
    "    engine.dispose()  # Cierra la conexión"
   ]
  },
  {
   "cell_type": "markdown",
   "metadata": {},
   "source": [
    "### Crear tablas"
   ]
  },
  {
   "cell_type": "code",
   "execution_count": 5,
   "metadata": {},
   "outputs": [
    {
     "name": "stdout",
     "output_type": "stream",
     "text": [
      "Tablas creadas exitosamente.\n"
     ]
    }
   ],
   "source": [
    "# Ruta del script SQL en la carpeta Scripts_sql (un nivel atrás)\n",
    "script_path = os.path.join(\"..\", \"Scripts_sql\", \"creacion_tablas.sql\")\n",
    "# Leer el archivo SQL\n",
    "try:\n",
    "    with open(script_path, \"r\", encoding=\"utf-8\") as file:\n",
    "        sql_script = file.read()\n",
    "except Exception as e:\n",
    "    print(\"Error al leer el archivo SQL:\", e)\n",
    "    exit()\n",
    "\n",
    "# Crear las tablas en la base de datos 'spaceman'\n",
    "engine = create_engine(DATABASE_SPACEMAN_URL)\n",
    "\n",
    "try:\n",
    "    with engine.connect() as connection:\n",
    "        connection.execute(text(sql_script))\n",
    "        connection.commit()  # Importante para aplicar los cambios\n",
    "        print(\"Tablas creadas exitosamente.\")\n",
    "except Exception as e:\n",
    "    print(\"Error al ejecutar el script SQL:\", e)\n",
    "finally:\n",
    "    engine.dispose()  # Cierra la conexión"
   ]
  }
 ],
 "metadata": {
  "kernelspec": {
   "display_name": "venv_spaceman",
   "language": "python",
   "name": "python3"
  },
  "language_info": {
   "codemirror_mode": {
    "name": "ipython",
    "version": 3
   },
   "file_extension": ".py",
   "mimetype": "text/x-python",
   "name": "python",
   "nbconvert_exporter": "python",
   "pygments_lexer": "ipython3",
   "version": "3.13.2"
  }
 },
 "nbformat": 4,
 "nbformat_minor": 2
}
